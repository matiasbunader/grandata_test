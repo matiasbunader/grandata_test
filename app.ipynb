{
 "cells": [
  {
   "cell_type": "code",
   "execution_count": 2,
   "metadata": {},
   "outputs": [],
   "source": [
    "from pyspark.sql import SparkSession\n",
    "\n",
    "# Initialize a SparkSession\n",
    "spark = SparkSession.builder \\\n",
    "    .appName(\"Grandata\") \\\n",
    "    .getOrCreate()\n"
   ]
  },
  {
   "cell_type": "code",
   "execution_count": null,
   "metadata": {},
   "outputs": [],
   "source": [
    "# Define the path to the source folder\n",
    "source_folder_path = \"source\"\n",
    "\n",
    "# Read CSV files from the source folder\n",
    "df_events = spark.read.csv(f\"{source_folder_path}/events.csv.gz\", header=True, inferSchema=True)\n",
    "\n",
    "# Show the DataFrame\n",
    "df_events.show()"
   ]
  },
  {
   "cell_type": "code",
   "execution_count": 1,
   "metadata": {},
   "outputs": [
    {
     "name": "stdout",
     "output_type": "stream",
     "text": [
      "c:\\Users\\mbunader\\AppData\\Local\\Programs\\Python\\Python312\\python.exe\n",
      "c:\\Users\\mbunader\\AppData\\Local\\Programs\\Python\\Python312\\python.exe\n",
      "c:\\Users\\mbunader\\AppData\\Local\\Programs\\Python\\Python312\\python.exe\n"
     ]
    }
   ],
   "source": [
    "from pyspark.sql import SparkSession\n",
    "from pyspark.sql.functions import col, when, sum as _sum, md5, concat_ws, hour\n",
    "import matplotlib.pyplot as plt\n",
    "\n",
    "import os\n",
    "import sys\n",
    "\n",
    "# Set the HADOOP_HOME environment variable to the directory containing winutils.exe\n",
    "# os.environ['HADOOP_HOME'] = \"C:\\\\Hadoop\"\n",
    "\n",
    "# Add the Hadoop bin directory to the PATH environment variable\n",
    "# os.environ['PATH'] += os.pathsep + os.path.join(os.environ['HADOOP_HOME'], 'bin')\n",
    "\n",
    "os.environ['PYSPARK_PYTHON'] = sys.executable\n",
    "os.environ['PYSPARK_DRIVER_PYTHON'] = sys.executable\n",
    "os.environ['PYTHONPATH'] = sys.executable\n",
    "\n",
    "print(os.environ['PYSPARK_PYTHON'])\n",
    "print(os.environ['PYSPARK_DRIVER_PYTHON'])\n",
    "print(os.environ['PYTHONPATH'])"
   ]
  },
  {
   "cell_type": "code",
   "execution_count": 4,
   "metadata": {},
   "outputs": [
    {
     "name": "stdout",
     "output_type": "stream",
     "text": [
      "['374', 'D52', '861', '5B0', '4CA', '465', '048', 'D5B', 'FD6', '2D3', 'B3F', '6AF', '216', 'C3A', 'EE2', '328', '99E', 'BF6', '60F', '6AC', '557', '598', '4D2', '1A5', '539', '40A', 'C74', 'C38', 'CA3', 'ECE', '3DC', '48C', '55C', '839', '555', 'F31', '99A', '7D2', '667', 'CF4', '1EB', 'B6B', '825', 'CB4', '7E2', '227', '2BF', '8D1', '3A2', '1A0', '3B1', '758', 'F41', '1CF', 'B65', '92E', '585', '9D8', '835', '1D7', '7D4', 'C2F', 'BF8', '263', '3CA', '795', '313', '7BB', 'A6B', '6FE', '218', 'D85', 'F40', '840', '6BE', 'F84', '044', 'C19', 'E85', 'CA9', '04C', '18A', '6C9', '57A', '416', '93A', '704', '099', '670', '00D', 'C2E', '1C4', 'B57', 'B7F', '2B8', '9B4', '6D3', '5E7', '2F5', 'DAF', '4E0', '6CE', 'E25', 'E9F', '5E1', '3EB', '426', '44E', 'CAE', 'DAA', 'E0E', 'D25', '8F5', '688', '5BC', '0C4', '34D', '017', 'BB4', '5CB', '12D', '2D0', '7F6', '9CD', '314', '46A', '30D', '57E', '2E3', '1C9', '874', '229', '5BA', '533', '573', '348', '3B5', 'E18', '9AD', '1DA', '6EC', '21E', 'CB7', '392', '6E8', 'C78', 'E4F', 'D3D', '015', '403', '8B7', '47C', '29D', '169', '8EA', 'B94', '5F5', '02B', '3D4', 'EB0', '284', '963', '7E3', '45A', '0BF', 'F86', 'F64', '2EE', '9D1', '185', '41A', 'B7A', '5A7', 'D37', 'D9E', '46F', '2C7', '6B2', '4E7', 'FDF', '100', '7D9', '26B', 'E90', 'B53', 'B9D', '178', '349', '062', '35C', '072', '428', '8FE', '3A4', '3C7', '637', 'ADF', '7B9', '118', '1B9']\n"
     ]
    }
   ],
   "source": [
    "import os\n",
    "import sys\n",
    "\n",
    "os.environ['PYSPARK_PYTHON'] = sys.executable\n",
    "os.environ['PYSPARK_DRIVER_PYTHON'] = sys.executable\n",
    "\n",
    "df_free_destinations = spark.read.csv(f\"{source_folder_path}/free_sms_destinations.csv.gz\", header=True, inferSchema=True)\n",
    "\n",
    "# free_destinations = df_free_destinations.select(\"id\").rdd.flatMap(lambda x: x).collect()\n",
    "\n",
    "# Collect free destination numbers into a list without using RDD\n",
    "free_destinations = [row['id'] for row in df_free_destinations.select(\"id\").collect()]\n",
    "\n",
    "print(free_destinations)"
   ]
  },
  {
   "cell_type": "code",
   "execution_count": 5,
   "metadata": {},
   "outputs": [
    {
     "name": "stdout",
     "output_type": "stream",
     "text": [
      "Total amount billed by the service provider: $1696075.0\n"
     ]
    }
   ],
   "source": [
    "# Read CSV files from the source folder\n",
    "df_events = spark.read.csv(f\"{source_folder_path}/events.csv.gz\", header=True, inferSchema=True)\n",
    "df_free_destinations = spark.read.csv(f\"{source_folder_path}/free_sms_destinations.csv.gz\", header=True, inferSchema=True)\n",
    "\n",
    "# Collect free destination numbers into a list\n",
    "# free_destinations = df_free_destinations.select(\"id\").rdd.flatMap(lambda x: x).collect()\n",
    "\n",
    "free_destinations = [row['id'] for row in df_free_destinations.select(\"id\").collect()]\n",
    "\n",
    "# Calculate the billing amount for each SMS\n",
    "df_billing = df_events.withColumn(\n",
    "    \"billing_amount\",\n",
    "    when(col(\"id_destination\").isin(free_destinations), 0.0)\n",
    "    .when(col(\"region\").between(1, 5), 1.5)\n",
    "    .when(col(\"region\").between(6, 9), 2.0)\n",
    "    .otherwise(0.0)\n",
    ")\n",
    "\n",
    "# Calculate the total amount billed by the service provider\n",
    "total_billing = df_billing.agg(_sum(\"billing_amount\").alias(\"total_billing\")).collect()[0][\"total_billing\"]\n",
    "print(f\"Total amount billed by the service provider: ${total_billing}\")\n",
    "\n"
   ]
  },
  {
   "cell_type": "code",
   "execution_count": 6,
   "metadata": {},
   "outputs": [
    {
     "name": "stdout",
     "output_type": "stream",
     "text": [
      "+---------+-------------+--------------------+\n",
      "|id_source|total_billing|           hashed_id|\n",
      "+---------+-------------+--------------------+\n",
      "|      4D3|      18573.0|911914c7729eedbdf...|\n",
      "|      76D|      13508.0|bd180b7811395cbce...|\n",
      "|      07E|       4070.0|14a0660ae2f5d1868...|\n",
      "|      541|       1707.0|16c222aa19898e505...|\n",
      "|      B86|       1292.5|bc97b32ee2abb9c18...|\n",
      "|      3AE|       1026.0|6a57072949dbc409c...|\n",
      "|      1BD|       1023.5|f5a45e33602ea62f9...|\n",
      "|      3E0|       1015.5|e9d076deb3451cc49...|\n",
      "|      D29|        892.0|1b2e80021b5fc82bf...|\n",
      "|      E6F|        714.5|159e1f3d6ff0e7c3c...|\n",
      "|      D67|        702.0|4e321438558549248...|\n",
      "|      871|        680.0|aeb3135b436aa5537...|\n",
      "|      8F1|        652.0|496ce5f942d15eefb...|\n",
      "|      383|        626.5|beed13602b9b0e6ec...|\n",
      "|      BD4|        616.0|aa35b36e4d1395542...|\n",
      "|      D0B|        611.5|e87c495061191f4df...|\n",
      "|      756|        610.5|2823f4797102ce1a1...|\n",
      "|      556|        605.5|11b921ef080f77360...|\n",
      "|      7A5|        603.5|13d8d90116cbacd3a...|\n",
      "|      BF0|        592.5|49159f42b0f043d6d...|\n",
      "+---------+-------------+--------------------+\n",
      "only showing top 20 rows\n",
      "\n"
     ]
    }
   ],
   "source": [
    "# import os\n",
    "\n",
    "# Set the HADOOP_HOME environment variable to the directory containing winutils.exe\n",
    "# os.environ['HADOOP_HOME'] = \"C:\\\\Hadoop\\\\bin\\\\\"\n",
    "\n",
    "\n",
    "# Verify the environment variables\n",
    "# print(os.environ['HADOOP_HOME'])\n",
    "\n",
    "# Generate a dataset with the top 100 users with the highest billing\n",
    "df_top_users = df_billing.groupBy(\"id_source\") \\\n",
    "    .agg(_sum(\"billing_amount\").alias(\"total_billing\")) \\\n",
    "    .orderBy(col(\"total_billing\").desc()) \\\n",
    "    .limit(100) \\\n",
    "    .withColumn(\"hashed_id\", md5(col(\"id_source\").cast(\"string\")))\n",
    "\n",
    "# Write the dataset in Parquet format with gzip compression\n",
    "df_top_users.write.parquet(\"top_users_billing.parquet\", mode=\"overwrite\", compression=\"gzip\")\n",
    "\n",
    "df_top_users.show()"
   ]
  },
  {
   "cell_type": "code",
   "execution_count": 9,
   "metadata": {},
   "outputs": [
    {
     "data": {
      "image/png": "[encoded data removed]",
      "text/plain": [
       "<Figure size 640x480 with 1 Axes>"
      ]
     },
     "metadata": {},
     "output_type": "display_data"
    }
   ],
   "source": [
    "# Plot a histogram of the number of calls made per hour of the day\n",
    "df_calls_per_hour = df_events.groupBy(\"hour\").agg(_sum(\"calls\").alias(\"total_calls\")).orderBy(\"hour\")\n",
    "\n",
    "# Collect the data for plotting\n",
    "hours = [row['hour'] for row in df_calls_per_hour.select(\"hour\").collect()]\n",
    "call_counts = [row['total_calls'] for row in df_calls_per_hour.select(\"total_calls\").collect()]\n",
    "\n",
    "# Plot the histogram\n",
    "plt.bar(hours, call_counts)\n",
    "plt.xlabel(\"Hour of the Day\")\n",
    "plt.ylabel(\"Number of Calls\")\n",
    "plt.title(\"Number of Calls Made Per Hour of the Day\")\n",
    "plt.show()\n",
    "\n",
    "# Stop the SparkSession\n",
    "spark.stop()"
   ]
  }
 ],
 "metadata": {
  "kernelspec": {
   "display_name": "Python 3",
   "language": "python",
   "name": "python3"
  },
  "language_info": {
   "codemirror_mode": {
    "name": "ipython",
    "version": 3
   },
   "file_extension": ".py",
   "mimetype": "text/x-python",
   "name": "python",
   "nbconvert_exporter": "python",
   "pygments_lexer": "ipython3",
   "version": "3.12.2"
  }
 },
 "nbformat": 4,
 "nbformat_minor": 2
}
